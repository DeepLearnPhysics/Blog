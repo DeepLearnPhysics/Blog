{
 "cells": [
  {
   "cell_type": "markdown",
   "metadata": {},
   "source": [
    "We'll practice installing [larcv](https://github.com/DeepLearnPhysics/larcv2) on your local machine (laptop, server, etc.) manually. An alternative option is to use a container (harass Kazu to make that work).\n"
   ]
  },
  {
   "cell_type": "markdown",
   "metadata": {},
   "source": [
    "## Requirement\n",
    "* [ROOT](https://root.cern.ch) v6.04.00 or later\n",
    "\n",
    "larcv has extensive python API made available through [pyroot](https://root.cern.ch/pyroot). To make sure you have pyroot installed, try:"
   ]
  },
  {
   "cell_type": "code",
   "execution_count": 2,
   "metadata": {},
   "outputs": [],
   "source": [
    "import ROOT"
   ]
  },
  {
   "cell_type": "markdown",
   "metadata": {},
   "source": [
    "no error? great! You can use larcv without python API if you want to. But we have lots of python based useful scripts. So it is highly recommended to get pyroot working on your environment!"
   ]
  },
  {
   "cell_type": "markdown",
   "metadata": {},
   "source": [
    "## Cloning repository\n",
    "OK let's clone the repository. I execute this from my notebook using shell command."
   ]
  },
  {
   "cell_type": "code",
   "execution_count": 3,
   "metadata": {},
   "outputs": [
    {
     "name": "stderr",
     "output_type": "stream",
     "text": [
      "Cloning into 'larcv2'...\n"
     ]
    }
   ],
   "source": [
    "%%bash\n",
    "git clone https://github.com/DeepLearnPhysics/larcv2"
   ]
  },
  {
   "cell_type": "markdown",
   "metadata": {},
   "source": [
    "Make sure it's cloned. It should look like this:"
   ]
  },
  {
   "cell_type": "code",
   "execution_count": 4,
   "metadata": {},
   "outputs": [
    {
     "name": "stdout",
     "output_type": "stream",
     "text": [
      "GNUmakefile\n",
      "Makefile\n",
      "README.md\n",
      "bin\n",
      "configure.sh\n",
      "doc\n",
      "larcv\n",
      "python\n",
      "ups\n"
     ]
    }
   ],
   "source": [
    "%%bash\n",
    "ls larcv2"
   ]
  },
  {
   "cell_type": "markdown",
   "metadata": {},
   "source": [
    "## Configure to use larcv\n",
    "To use larcv, you need to execute one command:\n",
    "```\n",
    "source configure.sh\n",
    "```\n",
    "Only if this is the 1st time (it is!) you also have to run `make`.\n",
    "Let's configure and make."
   ]
  },
  {
   "cell_type": "code",
   "execution_count": 5,
   "metadata": {
    "scrolled": false
   },
   "outputs": [
    {
     "name": "stdout",
     "output_type": "stream",
     "text": [
      "\n",
      "\u001b[93mLArCV\u001b[00m FYI shell env. may useful for external packages:\n",
      "    \u001b[95mLARCV_INCDIR\u001b[00m   = /Users/kazuhiro/PlayGit/larcv-tutorial/notebooks/larcv2/build/include\n",
      "    \u001b[95mLARCV_LIBDIR\u001b[00m   = /Users/kazuhiro/PlayGit/larcv-tutorial/notebooks/larcv2/build/lib\n",
      "    \u001b[95mLARCV_BUILDDIR\u001b[00m = /Users/kazuhiro/PlayGit/larcv-tutorial/notebooks/larcv2/build\n",
      "\n",
      "Finish configuration. To build, type:\n",
      "> cd $LARCV_BUILDDIR\n",
      "> make \n",
      "\n",
      "\n",
      "Building core...\n",
      "\n",
      "\n",
      "Compiling Base...\n",
      "<< checking dependencies>>\n",
      "<< generating dict >>\n",
      "<< compiling ConfigManager.cxx >>\n",
      "<< compiling LArCVBaseUtilFunc.cxx >>\n",
      "<< compiling PSet.cxx >>\n",
      "<< compiling Parser.cxx >>\n",
      "<< compiling larcv_logger.cxx >>\n",
      "<< compiling BaseDict.cxx >>\n",
      "<< installing headers >>\n",
      "\n",
      "Compiling DataFormat...\n",
      "<< checking dependencies>>\n",
      "<< generating dict >>\n",
      "<< compiling BBox.cxx >>\n",
      "<< compiling ChStatus.cxx >>\n",
      "<< compiling DataProductFactory.cxx >>\n",
      "<< compiling EventBBox.cxx >>\n",
      "<< compiling EventBase.cxx >>\n",
      "<< compiling EventChStatus.cxx >>\n",
      "<< compiling EventImage2D.cxx >>\n",
      "<< compiling EventMeta.cxx >>\n",
      "<< compiling EventParticle.cxx >>\n",
      "<< compiling EventVoxel2D.cxx >>\n",
      "<< compiling EventVoxel3D.cxx >>\n",
      "<< compiling IOManager.cxx >>\n",
      "<< compiling Image2D.cxx >>\n",
      "<< compiling ImageMeta.cxx >>\n",
      "<< compiling Meta.cxx >>\n",
      "<< compiling Particle.cxx >>\n",
      "<< compiling ParticleMass.cxx >>\n",
      "<< compiling Point.cxx >>\n",
      "<< compiling Vertex.cxx >>\n",
      "<< compiling Voxel.cxx >>\n",
      "<< compiling Voxel2D.cxx >>\n",
      "<< compiling Voxel3D.cxx >>\n",
      "<< compiling Voxel3DMeta.cxx >>\n",
      "<< compiling DataFormatDict.cxx >>\n",
      "<< installing headers >>\n",
      "\n",
      "Compiling Processor...\n",
      "<< checking dependencies>>\n",
      "<< generating dict >>\n",
      "<< compiling ProcessBase.cxx >>\n",
      "<< compiling ProcessDriver.cxx >>\n",
      "<< compiling ProcessFactory.cxx >>\n",
      "<< compiling ProcessorDict.cxx >>\n",
      "<< installing headers >>\n",
      "\n",
      "Compiling CPPUtil...\n",
      "<< checking dependencies>>\n",
      "<< generating dict >>\n",
      "<< compiling CSVReader.cxx >>\n",
      "<< compiling RandomGaus.cxx >>\n",
      "<< compiling CPPUtilDict.cxx >>\n",
      "<< installing headers >>\n",
      "\n",
      "Compiling PyUtil...\n",
      "<< checking dependencies>>\n",
      "<< generating dict >>\n",
      "<< compiling PyCluster3DMaker.cxx >>\n",
      "<< compiling PyImageMaker.cxx >>\n",
      "<< compiling PyImageStitcher.cxx >>\n",
      "<< compiling PyTensor3DMaker.cxx >>\n",
      "<< compiling PyUtils.cxx >>\n",
      "<< compiling load_pyutil.cxx >>\n",
      "<< compiling PyUtilDict.cxx >>\n",
      "<< installing headers >>\n",
      "\n",
      "Compiling CVUtil...\n",
      "<< checking dependencies>>\n",
      "<< generating dict >>\n",
      "<< compiling CVUtil.cxx >>\n",
      "<< compiling load_cvutil.cxx >>\n",
      "<< compiling CVUtilDict.cxx >>\n",
      "<< installing headers >>\n",
      "Building app...\n",
      "\n",
      "Compiling Filter...\n",
      "<< checking dependencies>>\n",
      "<< generating dict >>\n",
      "<< compiling EmptyImageFilter.cxx >>\n",
      "<< compiling EmptyTensorFilter.cxx >>\n",
      "<< compiling EventIDFilter.cxx >>\n",
      "<< compiling MCSingleParticleFilter.cxx >>\n",
      "<< compiling ParticleCountFilter.cxx >>\n",
      "<< compiling QSumFilter.cxx >>\n",
      "<< compiling FilterDict.cxx >>\n",
      "<< installing headers >>\n",
      "\n",
      "Compiling ImageAna...\n",
      "<< checking dependencies>>\n",
      "<< generating dict >>\n",
      "<< compiling HistADC.cxx >>\n",
      "<< compiling HistTensor.cxx >>\n",
      "<< compiling ImageAnaDict.cxx >>\n",
      "<< installing headers >>\n",
      "\n",
      "Compiling ImageMod...\n",
      "<< checking dependencies>>\n",
      "<< generating dict >>\n",
      "<< compiling ADCScale.cxx >>\n",
      "<< compiling ADCScaleAna.cxx >>\n",
      "<< compiling ADCThreshold.cxx >>\n",
      "<< compiling BBoxFromClusterVoxel3D.cxx >>\n",
      "<< compiling Binarize.cxx >>\n",
      "<< compiling BlurTensor3D.cxx >>\n",
      "<< compiling Cluster2DFromCluster3D.cxx >>\n",
      "<< compiling Cluster3DCompressor.cxx >>\n",
      "<< compiling CombineImages.cxx >>\n",
      "<< compiling CombineTensor3D.cxx >>\n",
      "<< compiling CropBBox2D.cxx >>\n",
      "<< compiling ImageCompressor.cxx >>\n",
      "<< compiling ImageFromTensor2D.cxx >>\n",
      "<< compiling MaskImage2D.cxx >>\n",
      "<< compiling MaskTensor3D.cxx >>\n",
      "<< compiling NormalizeTensor3D.cxx >>\n",
      "<< compiling ParticleBBoxFromCluster.cxx >>\n",
      "<< compiling ProdEventMeta2D.cxx >>\n",
      "<< compiling ProdEventMeta3D.cxx >>\n",
      "<< compiling RemoveDetectorInfo.cxx >>\n",
      "<< compiling ResizeImage.cxx >>\n",
      "<< compiling ScaleTensor.cxx >>\n",
      "<< compiling SegLabelFromCluster3D.cxx >>\n",
      "<< compiling SegWeightInstance2D.cxx >>\n",
      "<< compiling SegWeightInstance3D.cxx >>\n",
      "<< compiling Tensor2DFromTensor3D.cxx >>\n",
      "<< compiling Tensor3DCompressor.cxx >>\n",
      "<< compiling Tensor3DFromCluster3D.cxx >>\n",
      "<< compiling ThresholdTensor3D.cxx >>\n",
      "<< compiling VertexLabel3D.cxx >>\n",
      "<< compiling VertexWeight3D.cxx >>\n",
      "<< compiling WireMask.cxx >>\n",
      "<< compiling ImageModDict.cxx >>\n",
      "<< installing headers >>\n",
      "\n",
      "Compiling ThreadIO...\n",
      "<< checking dependencies>>\n",
      "<< generating dict >>\n",
      "<< compiling BatchData.cxx >>\n",
      "<< compiling BatchDataStorage.cxx >>\n",
      "<< compiling BatchDataStorageFactory.cxx >>\n",
      "<< compiling BatchFillerImage2D.cxx >>\n",
      "<< compiling BatchFillerMultiLabel.cxx >>\n",
      "<< compiling BatchFillerPIDLabel.cxx >>\n",
      "<< compiling BatchFillerTemplate.cxx >>\n",
      "<< compiling BatchFillerTensor3D.cxx >>\n",
      "<< compiling BatchHolder.cxx >>\n",
      "<< compiling RandomCropper.cxx >>\n",
      "<< compiling ThreadIOTypes.cxx >>\n",
      "<< compiling ThreadProcessor.cxx >>\n",
      "<< compiling ThreadIODict.cxx >>\n",
      "\n",
      "Linking library...\n",
      "\n"
     ]
    }
   ],
   "source": [
    "%%bash\n",
    "cd larcv2 && source configure.sh && make -j"
   ]
  },
  {
   "cell_type": "markdown",
   "metadata": {},
   "source": [
    "## Done!\n",
    "Now you should find the `build` directory and built `.so` library for larcv."
   ]
  },
  {
   "cell_type": "code",
   "execution_count": 6,
   "metadata": {},
   "outputs": [
    {
     "name": "stdout",
     "output_type": "stream",
     "text": [
      "GNUmakefile\n",
      "Makefile\n",
      "README.md\n",
      "bin\n",
      "build\n",
      "configure.sh\n",
      "doc\n",
      "larcv\n",
      "python\n",
      "ups\n",
      "larcv2/build/lib/liblarcv.so\n"
     ]
    }
   ],
   "source": [
    "%%bash\n",
    "ls larcv2\n",
    "ls larcv2/build/lib/*.so"
   ]
  }
 ],
 "metadata": {
  "kernelspec": {
   "display_name": "Python 2",
   "language": "python",
   "name": "python2"
  },
  "language_info": {
   "codemirror_mode": {
    "name": "ipython",
    "version": 2
   },
   "file_extension": ".py",
   "mimetype": "text/x-python",
   "name": "python",
   "nbconvert_exporter": "python",
   "pygments_lexer": "ipython2",
   "version": "2.7.10"
  }
 },
 "nbformat": 4,
 "nbformat_minor": 2
}
