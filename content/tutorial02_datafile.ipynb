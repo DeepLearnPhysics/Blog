{
 "cells": [
  {
   "cell_type": "markdown",
   "metadata": {},
   "source": [
    "In this notebook we explore the content of example [larcv](https://github.com/DeepLearnPhysics/larcv2) data file. We assume you already set up [larcv](https://github.com/DeepLearnPhysics/larcv2) environment and cloned [larcv-tutorial](https://github.com/DeepLearnPhysics/larcv-tutorial) repository. If not, checkout our [installation tutorial](https://deeplearnphysics.org/Blog/tutorial-01.html)."
   ]
  },
  {
   "cell_type": "code",
   "execution_count": 2,
   "metadata": {},
   "outputs": [],
   "source": [
    "from __future__ import print_function\n",
    "import ROOT\n",
    "from larcv import larcv\n",
    "import numpy\n",
    "import matplotlib.pyplot as plt\n",
    "%matplotlib inline"
   ]
  },
  {
   "cell_type": "markdown",
   "metadata": {},
   "source": [
    "## Opening a file interactively\n",
    "We use example files that come with [larcv-tutorial](https://github.com/DeepLearnPhysics/larcv-tutorial). They should be residing at the top directory of the repository and called `proton.root` and `electron.root`. You will have to modify `REPOSITORY_DIR` value in the next cell for your own case!"
   ]
  },
  {
   "cell_type": "code",
   "execution_count": 3,
   "metadata": {},
   "outputs": [],
   "source": [
    "REPOSITORY_DIR='../'\n",
    "_files = [REPOSITORY_DIR + f for f in ['proton.root','electron.root']]"
   ]
  },
  {
   "cell_type": "markdown",
   "metadata": {},
   "source": [
    "Let's start by opening the bare root file:"
   ]
  },
  {
   "cell_type": "code",
   "execution_count": 4,
   "metadata": {},
   "outputs": [
    {
     "name": "stdout",
     "output_type": "stream",
     "text": [
      "TFile**\t\t../proton.root\t\r\n",
      " TFile*\t\t../proton.root\t\r\n",
      "  KEY: TTree\tparticle_mctruth_tree;1\tmctruth tree\r\n",
      "  KEY: TTree\timage2d_data_tree;1\tdata tree\r\n"
     ]
    }
   ],
   "source": [
    "_f = ROOT.TFile(_files[0])\n",
    "_f.ls()"
   ]
  },
  {
   "cell_type": "markdown",
   "metadata": {},
   "source": [
    "## Understanding the contents\n",
    "In this file, larcv data is stored in the form of [ROOT TTree](https://root.cern.ch/doc/master/classTTree.html). Each TTree holds one data instance, and each entry corresponds to an individual entry or what we call an *event*. TTrees in the same file are *entry-aligned*. In this file, you see 2 TTrees: *particle_mctruth_tree* and *image2d_data_tree*. Because they are entry-aligned, *X*-th entry of two TTrees correspond to the same event (but storing different data information).\n",
    "\n",
    "### What *TTree* name tells us?\n",
    "TTree name string is composed of 3 separate sub-strings that is useful to users and software tools. The separation of 3 sub-strings is by the first and the last \"underscore\", or \"\\_\". The first sub-string is a unique identifier for a certain data product type. The second sub-string is a unique identifier for a certain data product instance. Finally the last string should be just \"tree\". For example, \"image2d\\_data\\_tree\" carries a data product type identified by \"image2d\" (`larcv::Image2D` in C++ source code) with its particular instance by the name \"data\".\n",
    "\n",
    "Let's check out \"image2d\\_data\\_tree\": this holds a simple 2D image data. We use a handy [ROOT TChain](https://root.cern.ch/doc/master/classTChain.html) with [pyroot](https://root.cern.ch/pyroot) interface:"
   ]
  },
  {
   "cell_type": "code",
   "execution_count": 5,
   "metadata": {},
   "outputs": [
    {
     "name": "stdout",
     "output_type": "stream",
     "text": [
      "Found 20 entries!\n"
     ]
    }
   ],
   "source": [
    "image_chain = ROOT.TChain(\"image2d_data_tree\")\n",
    "\n",
    "for _file in _files: image_chain.AddFile(_file)\n",
    "    \n",
    "print('Found', image_chain.GetEntries(), 'entries!')"
   ]
  },
  {
   "cell_type": "markdown",
   "metadata": {},
   "source": [
    "So we found 20 total entries from 2 input files!\n",
    "\n",
    "## Accessing a particular event (entry)\n",
    "Here's how you can access a particular `entry` and grab the data instance:"
   ]
  },
  {
   "cell_type": "code",
   "execution_count": 6,
   "metadata": {},
   "outputs": [
    {
     "name": "stdout",
     "output_type": "stream",
     "text": [
      "Data type: <ROOT.larcv::EventImage2D object at 0x7fa2907aea10>\n"
     ]
    }
   ],
   "source": [
    "entry = 0\n",
    "image_chain.GetEntry(entry)\n",
    "# actual data product is accessible by an attribute name = ttree name replaced \"tree\" with \"branch\"\n",
    "entry_data = image_chain.image2d_data_branch\n",
    "print('Data type:', entry_data)"
   ]
  },
  {
   "cell_type": "markdown",
   "metadata": {},
   "source": [
    "`entry_data` is a C++ class `larcv::EventImage2D` exposed to python interpreter. For full details, you can look at larcv source code at `larcv/core/DataFormat/EventImage2D.h`. Each `larcv::EventImage2D` consists of one or more 2D images. How many? let's check:"
   ]
  },
  {
   "cell_type": "code",
   "execution_count": 7,
   "metadata": {},
   "outputs": [
    {
     "name": "stdout",
     "output_type": "stream",
     "text": [
      "Type of image2d_array: <class '__main__.vector<larcv::Image2D>'>\n",
      "Number of images: 3\n"
     ]
    }
   ],
   "source": [
    "image2d_array = entry_data.as_vector()\n",
    "print('Type of image2d_array:', type(image2d_array))\n",
    "print('Number of images:', image2d_array.size())"
   ]
  },
  {
   "cell_type": "markdown",
   "metadata": {},
   "source": [
    "So it says the type of `image2d_array` is `std::vector<larcv::Image2D>` and we have 3 of them!\n",
    "\n",
    "## Visualizing `larcv::Image2D` with matplotlib\n",
    "Let's see how they (2D images in entry_data) look like:"
   ]
  },
  {
   "cell_type": "code",
   "execution_count": 8,
   "metadata": {
    "scrolled": false
   },
   "outputs": [
    {
     "name": "stdout",
     "output_type": "stream",
     "text": [
      "Image index 0\n",
      "image_numpy has type <type 'numpy.ndarray'>\n",
      "Image dimensions are (256, 256)\n"
     ]
    },
    {
     "data": {
      "image/png": "[encoded data removed]",
      "text/plain": [
       "<matplotlib.figure.Figure at 0x10398c0d0>"
      ]
     },
     "metadata": {},
     "output_type": "display_data"
    },
    {
     "name": "stdout",
     "output_type": "stream",
     "text": [
      "Image index 1\n",
      "image_numpy has type <type 'numpy.ndarray'>\n",
      "Image dimensions are (256, 256)\n"
     ]
    },
    {
     "data": {
      "image/png": "[encoded data removed]",
      "text/plain": [
       "<matplotlib.figure.Figure at 0x128a72250>"
      ]
     },
     "metadata": {},
     "output_type": "display_data"
    },
    {
     "name": "stdout",
     "output_type": "stream",
     "text": [
      "Image index 2\n",
      "image_numpy has type <type 'numpy.ndarray'>\n",
      "Image dimensions are (256, 256)\n"
     ]
    },
    {
     "data": {
      "image/png": "[encoded data removed]",
      "text/plain": [
       "<matplotlib.figure.Figure at 0x128cebe10>"
      ]
     },
     "metadata": {},
     "output_type": "display_data"
    }
   ],
   "source": [
    "for index, image in enumerate(image2d_array):\n",
    "    # Note here that std::vectors in pyroot are iterable\n",
    "    # larcv has a helper function to convert std::vector to numpy array, so we can use that:\n",
    "    image_numpy = larcv.as_ndarray(image)\n",
    "    print(\"Image index\", index)\n",
    "    print(\"image_numpy has type {}\".format(type(image_numpy)))\n",
    "    print(\"Image dimensions are {}\".format(image_numpy.shape))\n",
    "    #Show the image with imshow:\n",
    "    fig = plt.figure(figsize=(8,8))\n",
    "    plt.imshow(image_numpy, interpolation='none',cmap='jet')\n",
    "    plt.show()"
   ]
  },
  {
   "cell_type": "markdown",
   "metadata": {},
   "source": [
    "## Particle: simulation information for _labels_\n",
    "So what are those images we just printed? They are 2D projections (`xy`, `yz`, and `zx`) of 3D energy deposition profile of a particle. That's why there are three 2D images. But what particle? at what energy/momentum? These images are generated using a particle simulation in LAr. Because it is from simulation, we know _every_ _single_ _detail_ of what is going on. Much of simulation information is stored in a data product `larcv::EventParticle`, which is the other TTree you saw in the file.\n",
    "\n",
    "Let's load it up."
   ]
  },
  {
   "cell_type": "code",
   "execution_count": 9,
   "metadata": {},
   "outputs": [
    {
     "name": "stdout",
     "output_type": "stream",
     "text": [
      "Found 20 entries!\n",
      "Data type: <ROOT.larcv::EventParticle object at 0x7fa2928b0dd0>\n",
      "Type of particle_array: <class '__main__.vector<larcv::Particle>'>\n",
      "Number of particles: 1\n",
      "\n",
      "Particle index 0\n",
      "Particle PDG code 2212\n",
      "Particle initial energy 1138 [MeV]\n"
     ]
    }
   ],
   "source": [
    "# Create TChain & load files\n",
    "particle_chain = ROOT.TChain(\"particle_mctruth_tree\")\n",
    "for _file in _files: particle_chain.AddFile(_file)\n",
    "print('Found',particle_chain.GetEntries(),'entries!')\n",
    "\n",
    "# Get the same entry (event)\n",
    "particle_chain.GetEntry(entry)\n",
    "entry_data = particle_chain.particle_mctruth_branch\n",
    "print('Data type:', entry_data)\n",
    "\n",
    "# Get an array of \"larcv::Particle\"\n",
    "particle_array = entry_data.as_vector()\n",
    "print('Type of particle_array:', type(particle_array))\n",
    "print('Number of particles:', particle_array.size())\n",
    "print()\n",
    "\n",
    "# Print out particle information\n",
    "for index, particle in enumerate(particle_array):\n",
    "    print(\"Particle index\", index)\n",
    "    print(\"Particle PDG code\", particle.pdg_code())\n",
    "    print(\"Particle initial energy\", int(particle.energy_init() * 1000),'[MeV]')\n",
    "\n"
   ]
  },
  {
   "cell_type": "markdown",
   "metadata": {},
   "source": [
    "... so we can see that the images we looked at are from a simulated proton with total energy at about 1.1GeV. We know that the list of files we loaded contain electrons. Let's search for it!"
   ]
  },
  {
   "cell_type": "code",
   "execution_count": 10,
   "metadata": {},
   "outputs": [
    {
     "name": "stdout",
     "output_type": "stream",
     "text": [
      "Entry 0 Particle PDG code 2212\n",
      "Entry 1 Particle PDG code 2212\n",
      "Entry 2 Particle PDG code 2212\n",
      "Entry 3 Particle PDG code 2212\n",
      "Entry 4 Particle PDG code 2212\n",
      "Entry 5 Particle PDG code 2212\n",
      "Entry 6 Particle PDG code 2212\n",
      "Entry 7 Particle PDG code 2212\n",
      "Entry 8 Particle PDG code 2212\n",
      "Entry 9 Particle PDG code 2212\n",
      "Entry 10 Particle PDG code 11\n",
      "Entry 11 Particle PDG code 11\n",
      "Entry 12 Particle PDG code 11\n",
      "Entry 13 Particle PDG code 11\n",
      "Entry 14 Particle PDG code 11\n",
      "Entry 15 Particle PDG code 11\n",
      "Entry 16 Particle PDG code 11\n",
      "Entry 17 Particle PDG code 11\n",
      "Entry 18 Particle PDG code 11\n",
      "Entry 19 Particle PDG code 11\n"
     ]
    }
   ],
   "source": [
    "for entry in xrange(particle_chain.GetEntries()):\n",
    "    particle_chain.GetEntry(entry)\n",
    "    entry_data = particle_chain.particle_mctruth_branch\n",
    "    for particle in entry_data.as_vector(): print('Entry',entry,'Particle PDG code',particle.pdg_code())"
   ]
  },
  {
   "cell_type": "markdown",
   "metadata": {},
   "source": [
    "Great, so entry 10 and onwards contain PDG code 11, which is electron. Let's print images for entry 10!"
   ]
  },
  {
   "cell_type": "code",
   "execution_count": 11,
   "metadata": {},
   "outputs": [
    {
     "name": "stdout",
     "output_type": "stream",
     "text": [
      "Image index 0\n",
      "image_numpy has type <type 'numpy.ndarray'>\n",
      "Image dimensions are (256, 256)\n"
     ]
    },
    {
     "data": {
      "image/png": "[encoded data removed]",
      "text/plain": [
       "<matplotlib.figure.Figure at 0x12630b950>"
      ]
     },
     "metadata": {},
     "output_type": "display_data"
    },
    {
     "name": "stdout",
     "output_type": "stream",
     "text": [
      "Image index 1\n",
      "image_numpy has type <type 'numpy.ndarray'>\n",
      "Image dimensions are (256, 256)\n"
     ]
    },
    {
     "data": {
      "image/png": "[encoded data removed]",
      "text/plain": [
       "<matplotlib.figure.Figure at 0x12af1c990>"
      ]
     },
     "metadata": {},
     "output_type": "display_data"
    },
    {
     "name": "stdout",
     "output_type": "stream",
     "text": [
      "Image index 2\n",
      "image_numpy has type <type 'numpy.ndarray'>\n",
      "Image dimensions are (256, 256)\n"
     ]
    },
    {
     "data": {
      "image/png": "[encoded data removed]",
      "text/plain": [
       "<matplotlib.figure.Figure at 0x128e23290>"
      ]
     },
     "metadata": {},
     "output_type": "display_data"
    }
   ],
   "source": [
    "entry = 10\n",
    "image_chain.GetEntry(entry)\n",
    "image2d_array = image_chain.image2d_data_branch.as_vector()\n",
    "\n",
    "for index, image in enumerate(image2d_array):\n",
    "    image_numpy = larcv.as_ndarray(image)\n",
    "    print(\"Image index\", index)\n",
    "    print(\"image_numpy has type {}\".format(type(image_numpy)))\n",
    "    print(\"Image dimensions are {}\".format(image_numpy.shape))\n",
    "    fig = plt.figure(figsize=(8,8))\n",
    "    plt.imshow(image_numpy, interpolation='none',cmap='jet')\n",
    "    plt.show()"
   ]
  },
  {
   "cell_type": "markdown",
   "metadata": {},
   "source": [
    "... indeed it's an electron!  We can (just for fun, here) zoom in on the region with the highest charge (take just one projection for this):"
   ]
  },
  {
   "cell_type": "code",
   "execution_count": 12,
   "metadata": {},
   "outputs": [
    {
     "data": {
      "image/png": "[encoded data removed]",
      "text/plain": [
       "<matplotlib.figure.Figure at 0x10398c250>"
      ]
     },
     "metadata": {},
     "output_type": "display_data"
    }
   ],
   "source": [
    "projection2 = larcv.as_ndarray(image2d_array[2])\n",
    "x, y = numpy.unravel_index(projection2.argmax(), projection2.shape)\n",
    "crop_size=40\n",
    "zoom_image = projection2[x-crop_size:x+crop_size, y-crop_size:y+crop_size]\n",
    "fig = plt.figure(figsize=(8,8))\n",
    "plt.imshow(zoom_image, interpolation='none', cmap='jet')\n",
    "plt.show()"
   ]
  },
  {
   "cell_type": "markdown",
   "metadata": {},
   "source": [
    "In this notebook, we saw we could open raw larcv root files and extract images and truth information.  In principle, this is enough for single particle training, but we can do better if we take advantage of everything larcv offers."
   ]
  }
 ],
 "metadata": {
  "kernelspec": {
   "display_name": "Python 2",
   "language": "python",
   "name": "python2"
  },
  "language_info": {
   "codemirror_mode": {
    "name": "ipython",
    "version": 2
   },
   "file_extension": ".py",
   "mimetype": "text/x-python",
   "name": "python",
   "nbconvert_exporter": "python",
   "pygments_lexer": "ipython2",
   "version": "2.7.10"
  }
 },
 "nbformat": 4,
 "nbformat_minor": 2
}
