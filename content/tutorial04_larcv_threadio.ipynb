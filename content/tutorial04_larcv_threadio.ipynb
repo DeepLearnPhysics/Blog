{
 "cells": [
  {
   "cell_type": "markdown",
   "metadata": {},
   "source": [
    "This notebook demonstrates how one can use a dedicated tool to _fast_ read data from larcv file and load into a numpy array for network training.\n",
    "We will use a python interface class called `dataloader2.larcv_threadio` (let's not ask what happened to `dataloader1`).\n",
    "\n",
    "### Some details (feel free to ignore)\n",
    "`larcv_threadio` is a mere python API to use `ThreadProcessor`, a multi-threaded `larcv` file reader written in C++.\n",
    "If you would like to write your own C++ API, you can still use `ThreadProcessor` to write a wrapper API."
   ]
  },
  {
   "cell_type": "code",
   "execution_count": 2,
   "metadata": {},
   "outputs": [],
   "source": [
    "from __future__ import print_function\n",
    "\n",
    "import ROOT\n",
    "from larcv import larcv\n",
    "from larcv.dataloader2 import larcv_threadio\n",
    "import numpy\n",
    "import matplotlib.pyplot as plt\n",
    "%matplotlib inline\n",
    "\n",
    "# instantiate dataloader2\n",
    "proc = larcv_threadio()"
   ]
  },
  {
   "cell_type": "markdown",
   "metadata": {},
   "source": [
    "## Configuring larcv_threadio\n",
    "`larcv_threadio` accepts a simple dictionary with configuration parameters.\n",
    "There are only 3 parameters:\n",
    "* `verbosity` ... recommended value=0. When > 0, some status information is printed out into `sys.stdout` stream.\n",
    "* `filler_cfg` ... necessary! This is acutal meat that configures an internal `larcv` C++ object (`ThreadProcessor`).\n",
    "* `filler_name` ... necessary! This has to match to the string key of a configuration block inside the `filler_cfg` file. You'll see it in the following. \n",
    "\n",
    "### Some details (feel free to ignore)\n",
    "In case you wonder why you need `filler_name` ... this is because `larcv` configuration file can contain more than one configuration parameter set in one file. This parameter is used to identify which configuration parameter set should be used."
   ]
  },
  {
   "cell_type": "code",
   "execution_count": 3,
   "metadata": {},
   "outputs": [
    {
     "name": "stdout",
     "output_type": "stream",
     "text": [
      "\u001b[93m setting verbosity \u001b[00m3\r\n"
     ]
    }
   ],
   "source": [
    "# construct configuration dictionary\n",
    "filler_cfg={}\n",
    "filler_cfg[\"filler_name\"] = 'ThreadProcessor'\n",
    "filler_cfg[\"verbosity\"]   = 0,\n",
    "filler_cfg['filler_cfg']  = 'configs/example_dataloader.cfg'\n",
    "\n",
    "proc.configure(filler_cfg)"
   ]
  },
  {
   "cell_type": "markdown",
   "metadata": {},
   "source": [
    "Next, let's take a look at the actual configuration file we fed to `filler_cfg`.\n",
    "### If above cell does not return in a few seconds...\n",
    "then it is even more important to look at the configuration. One possible issue is crogged text to be printed on the notebook. We have to make sure the `Verbosity` value is set to 3 or larger everywhere."
   ]
  },
  {
   "cell_type": "code",
   "execution_count": 4,
   "metadata": {},
   "outputs": [
    {
     "name": "stdout",
     "output_type": "stream",
     "text": [
      "ThreadProcessor: {\n",
      "  Verbosity:    3\n",
      "  NumThreads: 2\n",
      "  NumBatchStorage: 2\n",
      "  RandomAccess: true\n",
      "  InputFiles:   [\"../proton.root\",\"../electron.root\"]\n",
      "  ProcessType:  [\"BatchFillerImage2D\",\"BatchFillerPIDLabel\"]\n",
      "  ProcessName:  [\"image\",\"label\"]\n",
      "  ProcessList: {\n",
      "    image: {\n",
      "      Verbosity: 3\n",
      "      ImageProducer: \"data\"\n",
      "      Channels: [2]\n",
      "      EnableMirror: false\n",
      "    }\n",
      "    label: {\n",
      "      Verbosity: 3\n",
      "      ParticleProducer: \"mctruth\"\n",
      "      PdgClassList: [2212,11]\n",
      "    }\n",
      "  }\n",
      "}\n",
      "\n"
     ]
    }
   ],
   "source": [
    "print(open('configs/example_dataloader.cfg').read())"
   ]
  },
  {
   "cell_type": "markdown",
   "metadata": {},
   "source": [
    "### Whoa...\n",
    "Yep, there's a lot going on here. I don't recommend you try to understand all of them right now.\n",
    "In fact, it is a lot easier once you nail `larcv` usage first. I cover minimal portions here since my focus is to get you familiarized with `larcv_threadio` and not \"`larcv` in general\".\n",
    "\n",
    "## Minimum details\n",
    "Remember this is a configuration to enable multi-threaded reading of data. So keep a big picture in mind: the purpose of this file is to tell C++ program how/what to read from `larcv` data file.\n",
    "\n",
    "### `ThreadProcessor` block\n",
    "There are 3 levels of configuration parameters. The biggest clause is around `ThreadProcessor`. Note this name is what needed to match to `filler_name` for `larcv_threadio` configuration dictionary. Inside this block, there is a list of parameters covered below.\n",
    "* `NumThreads` ... positive `int` ... number of threads to instantiate for reading a file\n",
    "* `NumBatchStorage` ... positive `int` ... number of a `batch` data buffer storage. Each storage is filled by a dedicated thread. So it makes sense to set this equal or larger than `NumThreads`.\n",
    "* `RandomAccess` ... `true/false` ... randomizes an order of data (event) to be accessed in the file(s)\n",
    "* `InputFiles` ... `string` array ... a list of input `larcv` files you want the reader to use. The order does not matter if `RandomAccess` is `true`.\n",
    "* `ProcessType` ... `string` array ... a list of `larcv` C++ modules (C++ class names) to be run in respective order. `BatchFillerImage2D` takes input 2D image data. `BatchFillerPIDLabel` takes input simulation information and generate a particle label based on [PDG code](http://pdg.lbl.gov/2007/reviews/montecarlorpp.pdf).\n",
    "* `ProcessName` ... `string` array ... a list of unique string names for declared `larcv` modules in `ProcessType` argument. This is used to look up a module-specific configuration parameters (see below).\n",
    "* `ProcessList` ... configuration block ... see next section :)\n",
    "\n",
    "### `ProcessList` block\n",
    "This block contains a list of `larcv` module configuration parameter sets with a module's unique name as a key. Here, we see `image` for `BatchFillerImage2D` module and `label` for `BatchFillerPIDLabel`. \n",
    "\n",
    "### `image` block\n",
    "This block configures `BatchFillerImage2D` which reads in input image data.\n",
    "* `ImageProducer` ... `string` ... this is a label to identify which 2D image data product from the input file to read. \n",
    "* `Channels` ... positive `int` array ... 2D image data has multiple channels, and this parameter specifies which channel(s) to read. Here, we will use only channel 2.\n",
    "* `EnableMirror` ... `true/false` ... when set to `true`, input data is randomly flipped with respect to the center vertical axis (left/right mirroring). This is one of the most simple data augmentation technique.\n",
    "\n",
    "### `label` block\n",
    "This block configures `BatchFillerPIDLabel` which defines a single classification label 2d image read by `BatchFillerImage2D` using simulation information.\n",
    "* `ParticleProducer` ... `string` ... this is a label to identify which \"simulation information\" should be used.\n",
    "* `PdgClassList` ... signed `int` array ... this lists [PDG code](http://pdg.lbl.gov/2007/reviews/montecarlorpp.pdf), a unique identifier of a particle type to define a set of classification target. Here, `2212` and `11` correspond to proton and electron respectively. The index of PDG code is typically used as a classification label. In this example, proton has label 0 as its index is 0.\n"
   ]
  },
  {
   "cell_type": "markdown",
   "metadata": {},
   "source": [
    "## Let's run!\n",
    "Too much text! Let's run `larcv_threadio` to read in some data!\n",
    "First, we issue the command to start the multi-threaded data read."
   ]
  },
  {
   "cell_type": "code",
   "execution_count": 5,
   "metadata": {},
   "outputs": [],
   "source": [
    "proc.start_manager(10)"
   ]
  },
  {
   "cell_type": "markdown",
   "metadata": {},
   "source": [
    "where the argument is number of data segments (events, or images) to read and store into 1 buffer = 1 `batch`. Once `start_manager` command is issued, all active threads go find an available storage buffer to fill them. Remember you specified number of threads and storage buffers by `NumThreads` and `NumBatchStorage` configuration parameters.\n",
    "\n",
    "The next command moves the data stored in the buffer into a `numpy` array so that we can access in python."
   ]
  },
  {
   "cell_type": "code",
   "execution_count": 6,
   "metadata": {},
   "outputs": [],
   "source": [
    "proc.next()"
   ]
  },
  {
   "cell_type": "markdown",
   "metadata": {},
   "source": [
    "## How to \"fetch\" a `batch` data\n",
    "In order to access the stored batch data, simply call `larcv_threadio.fetch_data` function (below). Here, you should give an argument `string` that is the name of `larcv` module responsible for reading data for you. Let's fetch an image data."
   ]
  },
  {
   "cell_type": "code",
   "execution_count": 7,
   "metadata": {},
   "outputs": [
    {
     "name": "stdout",
     "output_type": "stream",
     "text": [
      "<class 'larcv.dataloader2.batch_pydata'>\n"
     ]
    }
   ],
   "source": [
    "data = proc.fetch_data('image')\n",
    "print(type(data))"
   ]
  },
  {
   "cell_type": "markdown",
   "metadata": {},
   "source": [
    "as you can see, the return of `fetch_data` is `batch_pydata` which holds two information about data: the `numpy` array of data itself and its dimension. You can access them like:"
   ]
  },
  {
   "cell_type": "code",
   "execution_count": 8,
   "metadata": {},
   "outputs": [
    {
     "name": "stdout",
     "output_type": "stream",
     "text": [
      "numpy data shape (10, 65536) ... full shape info: [ 10 256 256   1]\n"
     ]
    }
   ],
   "source": [
    "image_data = data.data()\n",
    "dim_data   = data.dim()\n",
    "\n",
    "print('numpy data shape',image_data.shape,'... full shape info:', dim_data)\n"
   ]
  },
  {
   "cell_type": "markdown",
   "metadata": {},
   "source": [
    "Data is stored in `image_data` in the form of `(10,65536)`, which is 10 batch of data. `dim_data` is the full data dimension: `[10,256,256,1]` means this is \"10 batch data of 256x256x1 image\". You can see it is 2D image with 1 channel. Note `256*256*1 = 65536`. We can visualize an image using a simple imshow."
   ]
  },
  {
   "cell_type": "code",
   "execution_count": 9,
   "metadata": {},
   "outputs": [
    {
     "data": {
      "image/png": "[encoded data removed]",
      "text/plain": [
       "<matplotlib.figure.Figure at 0x12929bd50>"
      ]
     },
     "metadata": {},
     "output_type": "display_data"
    }
   ],
   "source": [
    "image_reshaped = image_data.reshape(dim_data[:-1])\n",
    "fig,ax = plt.subplots(figsize=(8,8))\n",
    "plt.imshow(image_reshaped[0],cmap='jet',interpolation='none')\n",
    "plt.show()"
   ]
  },
  {
   "cell_type": "markdown",
   "metadata": {},
   "source": [
    "## Labels?\n",
    "Yep, we should also have data filled by `BatchFillerPIDLabel`. Remember how to fetch?"
   ]
  },
  {
   "cell_type": "code",
   "execution_count": 10,
   "metadata": {},
   "outputs": [
    {
     "name": "stdout",
     "output_type": "stream",
     "text": [
      "numpy data shape (10, 2) ... full shape info: [10  2]\n"
     ]
    }
   ],
   "source": [
    "label = proc.fetch_data('label')\n",
    "label_data = label.data()\n",
    "dim_label  = label.dim()\n",
    "\n",
    "print('numpy data shape',label_data.shape,'... full shape info:', dim_label)"
   ]
  },
  {
   "cell_type": "markdown",
   "metadata": {},
   "source": [
    "Since we defined labels with only 2 particles, the dimension is quite simple: `(10,2)`. With this size, you can simply print them out to check the content, right?"
   ]
  },
  {
   "cell_type": "code",
   "execution_count": 11,
   "metadata": {},
   "outputs": [
    {
     "name": "stdout",
     "output_type": "stream",
     "text": [
      "[[ 0.  1.]\n",
      " [ 1.  0.]\n",
      " [ 1.  0.]\n",
      " [ 0.  1.]\n",
      " [ 0.  1.]\n",
      " [ 1.  0.]\n",
      " [ 1.  0.]\n",
      " [ 1.  0.]\n",
      " [ 0.  1.]\n",
      " [ 0.  1.]]\n"
     ]
    }
   ],
   "source": [
    "print(label_data)"
   ]
  },
  {
   "cell_type": "markdown",
   "metadata": {},
   "source": [
    "So we know the 1st image is an electron because we defined `PdgClassList: [2212,11]` in the configuration and the label for the entry 0 is `[0,1]`. Looks like we can find a proton in the next image :)"
   ]
  },
  {
   "cell_type": "code",
   "execution_count": 13,
   "metadata": {},
   "outputs": [
    {
     "data": {
      "image/png": "[encoded data removed]",
      "text/plain": [
       "<matplotlib.figure.Figure at 0x132b08e90>"
      ]
     },
     "metadata": {},
     "output_type": "display_data"
    }
   ],
   "source": [
    "fig,ax = plt.subplots(figsize=(8,8))\n",
    "plt.imshow(image_reshaped[1],cmap='jet',interpolation='none')\n",
    "plt.show()"
   ]
  },
  {
   "cell_type": "markdown",
   "metadata": {},
   "source": [
    "## Next batch!\n",
    "How to get the next buffer storage? Quite simple:"
   ]
  },
  {
   "cell_type": "code",
   "execution_count": 14,
   "metadata": {},
   "outputs": [
    {
     "name": "stdout",
     "output_type": "stream",
     "text": [
      "[[ 0.  1.]\n",
      " [ 0.  1.]\n",
      " [ 1.  0.]\n",
      " [ 0.  1.]\n",
      " [ 1.  0.]\n",
      " [ 0.  1.]\n",
      " [ 0.  1.]\n",
      " [ 1.  0.]\n",
      " [ 0.  1.]\n",
      " [ 1.  0.]]\n"
     ]
    }
   ],
   "source": [
    "proc.next()\n",
    "label = proc.fetch_data('label')\n",
    "print(label.data())"
   ]
  },
  {
   "cell_type": "markdown",
   "metadata": {},
   "source": [
    "## What happened to the last batch?\n",
    "It is gone :( So how did this happen? \n",
    "\n",
    "To answer this, it's important to emphasize the term \"available\" storage buffer. Earlier we learned that threads read from file and fill data into an available storage buffer. What does \"available\" mean? That means storage buffer that is either empty (initial state) OR ready to be refilled. This is sometimes called consumer-producer model. A user (you) is a consumer here, and `next` function flags previously accessed data is `already consumed`, and make that buffer as the next \"available\" storage buffer. \n",
    "\n",
    "# Questions?\n",
    "This completes the *quick-start* tutorial of `larcv_threadio`. Hope this helped for you to understand how this is working when used in our training example notebook."
   ]
  }
 ],
 "metadata": {
  "kernelspec": {
   "display_name": "Python 2",
   "language": "python",
   "name": "python2"
  },
  "language_info": {
   "codemirror_mode": {
    "name": "ipython",
    "version": 2
   },
   "file_extension": ".py",
   "mimetype": "text/x-python",
   "name": "python",
   "nbconvert_exporter": "python",
   "pygments_lexer": "ipython2",
   "version": "2.7.10"
  }
 },
 "nbformat": 4,
 "nbformat_minor": 2
}
